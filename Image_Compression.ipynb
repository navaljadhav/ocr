{
 "cells": [
  {
   "cell_type": "markdown",
   "metadata": {},
   "source": [
    "\n",
    "Compressing images using Python\n",
    "\n",
    "Compressing images is a neat way to shrink the size of an image while maintaining the resolution. In this tutorial we’re building an image compressor using Python, Numpy and Pillow. We’ll be using machine learning, the unsupervised K-means algorithm to be precise.\n",
    "\n",
    "If you don’t have Numpy and Pillow installed, you can do so using the following command:\n",
    "\n",
    "pip3 install pillow\n",
    "pip3 install numpy\n",
    "\n",
    "Start by importing the following libraries:"
   ]
  },
  {
   "cell_type": "code",
   "execution_count": 2,
   "metadata": {},
   "outputs": [],
   "source": [
    "import os \n",
    "import sys\n",
    "from PIL import Image\n",
    "import numpy as np"
   ]
  },
  {
   "cell_type": "markdown",
   "metadata": {},
   "source": [
    "The K-means algorithm\n",
    "\n",
    "K-means, as mentioned in the introduction, is an unsupervised machine learning algorithm. Simplified, the major difference between unsupervised and supervised machine learning algorithms is that supervised learning algorithms learn by example (labels are in the dataset), and unsupervised learning algorithms learn by trial and error; you label the data yourself.\n",
    "\n",
    "I’ll be explaining how the algorithm works based on an example. In the illustration below there are two features,\n",
    "x1 and x2.\n",
    "\n",
    "We want to assign each item to one out of two clusters. The most natural way to do this would be something like this:\n",
    "\n",
    "Colored points on a 2 plane\n",
    "\n",
    "K-means is an algorithm to do exactly this. Note that K is the number of clusters we want to have, hence the name K means.\n",
    "\n",
    "Note: Follow documentation here \"https://rickwierenga.com/blog/machine%20learning/image-compressor-in-Python.html\""
   ]
  },
  {
   "cell_type": "markdown",
   "metadata": {},
   "source": [
    "Implementing K-means\n",
    "\n",
    "We start by implementing a function that creates initial points for the centroids. This function takes as input X, the training examples, and chooses\n",
    "distinct points at random."
   ]
  },
  {
   "cell_type": "code",
   "execution_count": 3,
   "metadata": {},
   "outputs": [],
   "source": [
    "def intialize_K_centroids(X,K):\n",
    "\t\"\"\"Choose K points from X at random\"\"\"\n",
    "\tm = len(X)\n",
    "\treturn X[np.random.choice(m,K, replace=False), :]"
   ]
  },
  {
   "cell_type": "markdown",
   "metadata": {},
   "source": [
    "Then we write a function to find the closest centroid for each training example. This is the first step of the algorithm. We take X and the centroids as input and return the the index of the closest centroid for every example in c, an m-dimensional vector."
   ]
  },
  {
   "cell_type": "code",
   "execution_count": 4,
   "metadata": {},
   "outputs": [],
   "source": [
    "def find_closest_centroids(X, centroids):\n",
    "\tm = len(X)\n",
    "\tc = np.zeros(m)\n",
    "\tfor i in range(m):\n",
    "\t\t# Find distance\n",
    "\t\tdistance = np.linalg.norm(X[i] - centroids, axis=1)\n",
    "\n",
    "\t\t# Asign closest cluster to c[i]\n",
    "\t\tc[i] = np.argmin(distance)\n",
    "\n",
    "\treturn c\n",
    "\t"
   ]
  },
  {
   "cell_type": "markdown",
   "metadata": {},
   "source": [
    "or the second step of the algorithm, we compute the distance of each example to ‘its’ centroid and take the average of distance for every centroid muk. Because we’re looping over the rows, we have to transpose the examples."
   ]
  },
  {
   "cell_type": "code",
   "execution_count": 5,
   "metadata": {},
   "outputs": [],
   "source": [
    "def compute_means(X, idx, K):\n",
    "\t_, n = X.shape\n",
    "\tcentroids = np.zeros((K,n))\n",
    "\tfor k in range(K):\n",
    "\t\texamples = X[np.where(idx == k)]\n",
    "\t\tmean = [np.mean(column) for column in examples.T]\n",
    "\t\tcentroids[k] = mean\n",
    "\treturn centroids"
   ]
  },
  {
   "cell_type": "markdown",
   "metadata": {},
   "source": []
  },
  {
   "cell_type": "markdown",
   "metadata": {},
   "source": [
    "Finally, we got all the ingredients to complete the K-means algorithm. We set max_iter, the maximum number of iterations, to 10. Note that if the centroids aren’t moving anymore, we return the results because we cannot optimize any further."
   ]
  },
  {
   "cell_type": "code",
   "execution_count": 6,
   "metadata": {},
   "outputs": [],
   "source": [
    "def find_k_means(X, K, max_iters=10):\n",
    "\tcentroids = intialize_K_centroids(X, K)\n",
    "\tprevious_centroids = centroids\n",
    "\tfor _ in range(max_iters):\n",
    "\t\tidx = find_closest_centroids(X, centroids)\n",
    "\t\tcentroids = compute_means(X, idx, K)\n",
    "\t\tif(centroids == previous_centroids).all():\n",
    "\t\t\t# The centroids aren't moving anymore.\n",
    "\t\t\treturn centroids\n",
    "\t\telse:\n",
    "\t\t\tprevious_centroids = centroids\n",
    "\treturn centroids, idx"
   ]
  },
  {
   "cell_type": "markdown",
   "metadata": {},
   "source": [
    "Getting the image\n",
    "\n",
    "In case you’ve never worked with Pillow before, don’t worry. The api is very easy.\n",
    "\n",
    "We start by trying to open the image, which is defined as the first (and last) command line argument like so:"
   ]
  },
  {
   "cell_type": "code",
   "execution_count": 7,
   "metadata": {},
   "outputs": [
    {
     "name": "stdout",
     "output_type": "stream",
     "text": [
      "Please specify an image\n"
     ]
    }
   ],
   "source": [
    "try:\n",
    "\timage_path = sys.argv[1]\n",
    "\tassert os.path.isfile(image_path)\n",
    "except (IndexError, AssertionError):\n",
    "\tprint('Please specify an image')"
   ]
  },
  {
   "cell_type": "markdown",
   "metadata": {},
   "source": [
    "Pillow gives us an Image object, but our algorithm requires a NumPy array. So let’s define a little helper function to convert them. Notice how each value is divided by 255 to scale the pixels to 0…1 (a good ML practice)."
   ]
  },
  {
   "cell_type": "code",
   "execution_count": 8,
   "metadata": {},
   "outputs": [],
   "source": [
    "def load_image(path):\n",
    "\t\"\"\" Load image from path. Return a numpy array \"\"\"\n",
    "\timage = Image.open(path)\n",
    "\treturn np.asarray(image) / 255"
   ]
  },
  {
   "cell_type": "markdown",
   "metadata": {},
   "source": [
    "Here’s how to use that:"
   ]
  },
  {
   "cell_type": "code",
   "execution_count": 9,
   "metadata": {},
   "outputs": [
    {
     "name": "stdout",
     "output_type": "stream",
     "text": [
      "Image found with width : 1276, height: 1277, depth: 3\n"
     ]
    }
   ],
   "source": [
    "pathOfImage = \"D:\\corner_stone\\ocr\\IMG_1333.JPG\"\n",
    "image = load_image(pathOfImage)\n",
    "w, h, d = image.shape\n",
    "print('Image found with width : {}, height: {}, depth: {}'.format(w,h,d))"
   ]
  },
  {
   "cell_type": "markdown",
   "metadata": {},
   "source": [
    "Then we get our feature matrix X. We’re reshaping the image because each pixel has the same meaning (color), so they don’t have to be presented as a grid."
   ]
  },
  {
   "cell_type": "code",
   "execution_count": 10,
   "metadata": {},
   "outputs": [],
   "source": [
    "X = image.reshape((w * h, d))\n",
    "K = 20 # the desired number of the colors in the compressed image"
   ]
  },
  {
   "cell_type": "markdown",
   "metadata": {},
   "source": [
    "Finally we can make use of our algorithm and get the K colors. These colors are chosen by the algorithm."
   ]
  },
  {
   "cell_type": "code",
   "execution_count": 11,
   "metadata": {},
   "outputs": [],
   "source": [
    "colors, _ = find_k_means(X, K,max_iters=10)"
   ]
  },
  {
   "cell_type": "markdown",
   "metadata": {},
   "source": [
    "Because the indexes returned by the find_k_means function are 1 iteration behind the colors, we compute the indexes for the current colors. Each pixel has a value in 0...K corresponding, of course, to its color."
   ]
  },
  {
   "cell_type": "code",
   "execution_count": 12,
   "metadata": {},
   "outputs": [],
   "source": [
    "idx = find_closest_centroids(X, colors)"
   ]
  },
  {
   "cell_type": "markdown",
   "metadata": {},
   "source": [
    "Once we have all the data required we reconstruct the image by substituting the color index with the color and resphaping the image back to its original dimensions. Then using the Pillow function Image.fromarray we convert the raw numbers back to an image. We also convert the indexes to integers because numpy only accepts those as indexes for matrices."
   ]
  },
  {
   "cell_type": "code",
   "execution_count": 13,
   "metadata": {},
   "outputs": [],
   "source": [
    "idx = np.array(idx, dtype=np.uint8)\n",
    "X_reconstructed = np.array(colors[idx, :] * 255, dtype= np.uint8).reshape((w,h,d))\n",
    "compressed_image= Image.fromarray(X_reconstructed)"
   ]
  },
  {
   "cell_type": "markdown",
   "metadata": {},
   "source": [
    "Finally, we save the image back to the disk like so:"
   ]
  },
  {
   "cell_type": "code",
   "execution_count": 14,
   "metadata": {},
   "outputs": [],
   "source": [
    "compressed_image.save('out.png')"
   ]
  }
 ],
 "metadata": {
  "interpreter": {
   "hash": "2db524e06e9f5f4ffedc911c917cb75e12dbc923643829bf417064a77eb14d37"
  },
  "kernelspec": {
   "display_name": "Python 3.8.2 64-bit (system)",
   "language": "python",
   "name": "python3"
  },
  "language_info": {
   "codemirror_mode": {
    "name": "ipython",
    "version": 3
   },
   "file_extension": ".py",
   "mimetype": "text/x-python",
   "name": "python",
   "nbconvert_exporter": "python",
   "pygments_lexer": "ipython3",
   "version": "3.8.2"
  },
  "orig_nbformat": 4
 },
 "nbformat": 4,
 "nbformat_minor": 2
}
